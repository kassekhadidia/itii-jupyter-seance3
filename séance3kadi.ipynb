{
 "cells": [
  {
   "cell_type": "code",
   "execution_count": null,
   "metadata": {},
   "outputs": [],
   "source": [
    "Ex 1 : théorème des valeurs intermédiaires\n",
    "\n",
    "    1-Rappel Soit f une fonction continue définie sur un intervalle I et, a et b deux réels de I.Pour tout réel k compris entre f(a) et f(b), il existe au moins un réel c compris entre a et b tel que f(c)=k.\n",
    "\n",
    "Soit f une fonction continue et strictement monotone sur un intervalle [a;b].Pour tout nombre k compris entre f(a) et f(b), l'équation f(x)=kadmet une unique solution dans l'intervalle [a;b].\n",
    "\n",
    "   2- Application Nous considérons dans cet exercice la fonction:fdéfinie sur l'intervalle [0;1], par: f(x)=x^3+2x−2 Par la conséquence du théorème des valeurs intermédiaires : l'équation f(x)=0 admet une unique solution x_0 dans [0;1]\n",
    "   3- vérifier continuité et stricte monotonie de f sur [0;1]\n",
    "    4-Pour savoir si x0 se trouve dans [0;0,5]ou dans [0,5;1], il faut vérifier si f(0) et f(0,5) sont de mêmes signes\n",
    "   5- proposer un algorithme de recherche pour évaluer x_0 en fonction de 𝑁\n",
    "\n",
    ", donner par l'utilisateur"
   ]
  },
  {
   "cell_type": "code",
   "execution_count": null,
   "metadata": {},
   "outputs": [],
   "source": [
    "question 3\n",
    "\n",
    "def f(x) :\n",
    "    return x**+2*x-2\n",
    "def racine (N):\n",
    "    import numpy as np\n",
    "    intervalle=[0,0.5,1]\n",
    "    compteur = 0\n",
    "    \n",
    "    while compteur < N:\n",
    "        if f(intervalle[0]*f(intervalle[1]) < 0:\n",
    "             intervalle=[intervalle[0],(intervalle[0])+intervalle[1]+intervalle[2]]\n",
    "        else \n",
    "             intervalle=[intervalle[0],(intervalle[0])+intervalle[1]+intervalle[2]]\n",
    "             compteur = compteur +1\n",
    "             \n",
    "     return intervalle         \n",
    "print (racine(10))"
   ]
  },
  {
   "cell_type": "code",
   "execution_count": null,
   "metadata": {},
   "outputs": [],
   "source": [
    "Ex 2: Carrés magiques Uncarré magiqueest un tableau carré de taillen×nqui contient tous les entiers de1 àn2et qui vérifieque : la somme de chaque ligne, la somme de chaque colonne, la somme de la diagonale principale et lasomme de l’anti-diagonale ont toutes la même valeur.\n",
    "\n",
    "Pour un carré magique de taillen×n, la valeur de la somme est : S_n=n(n^2+1)/2\n",
    "\n",
    "    1-Définir un tableau pour chacun des exemples3×3 et 4×4\n",
    "    2-Définir une fonctionest_carre_magique(carre)qui teste si un tableaudonné est (ou pas) un carré magique\n",
    "    3-Génèrer de façon aléatoire des carrés contenant les entiers de1 àn2grâce à une fonctioncarre_aleatoire(n).\n",
    "    4-Définir la probabilité d'obtenir un carrée magique\n",
    "    5-Définir une fonctionaddition_carre(carre,k)qui ajoute un entierkà tous les élé-ments du carré.\n",
    "\n"
   ]
  },
  {
   "cell_type": "code",
   "execution_count": null,
   "metadata": {},
   "outputs": [],
   "source": [
    "\n",
    "n = 3                                   \n",
    "\n",
    "\n",
    "assert n % 2 == 1, f\"L'ordre {n} n'est pas impair.\"\n",
    "\n",
    "\n",
    "array = [[0 for j in range(n)] for i in range(n)]\n",
    "\n",
    "\n",
    "i, j = n, (n + 1) // 2        \n",
    "array[i - 1][j - 1] = 1       \n",
    "\n",
    "\n",
    "for k in range(2, n**2 + 1):\n",
    "    \n",
    "    i2 = (i + 1) % n\n",
    "    j2 = (j + 1) % n\n",
    "    if array[i2 - 1][j2 - 1] == 0:  \n",
    "        i, j = i2, j2\n",
    "    \n",
    "    else:\n",
    "        i = (i - 1) % n\n",
    "    array[i - 1][j - 1] = k       \n",
    "\n",
    "\n",
    "print(f\"Carré magique d'ordre {n}:\")\n",
    "for row in array:\n",
    "    print('  '.join(f'{k:2d}' for k in row), '=', sum(row))\n",
    "print('  '.join('==' for k in row))\n",
    "print('  '.join(str(sum(array[i][j] for i in range(n))) for j in range(n)))"
   ]
  }
 ],
 "metadata": {
  "kernelspec": {
   "display_name": "Python 3",
   "language": "python",
   "name": "python3"
  },
  "language_info": {
   "codemirror_mode": {
    "name": "ipython",
    "version": 3
   },
   "file_extension": ".py",
   "mimetype": "text/x-python",
   "name": "python",
   "nbconvert_exporter": "python",
   "pygments_lexer": "ipython3",
   "version": "3.7.6"
  }
 },
 "nbformat": 4,
 "nbformat_minor": 4
}
