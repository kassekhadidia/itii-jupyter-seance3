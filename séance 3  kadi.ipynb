{
 "cells": [
  {
   "cell_type": "code",
   "execution_count": null,
   "metadata": {},
   "outputs": [],
   "source": [
    "Ex 1 : théorème des valeurs intermédiaires\n",
    "\n",
    "    1-Rappel Soit f une fonction continue définie sur un intervalle I et, a et b deux réels de I.Pour tout réel k compris entre f(a) et f(b), il existe au moins un réel c compris entre a et b tel que f(c)=k.\n",
    "\n",
    "Soit f une fonction continue et strictement monotone sur un intervalle [a;b].Pour tout nombre k compris entre f(a) et f(b), l'équation f(x)=kadmet une unique solution dans l'intervalle [a;b].\n",
    "\n",
    "   2- Application Nous considérons dans cet exercice la fonction:fdéfinie sur l'intervalle [0;1], par: f(x)=x^3+2x−2 Par la conséquence du théorème des valeurs intermédiaires : l'équation f(x)=0 admet une unique solution x_0 dans [0;1]\n",
    "   3- vérifier continuité et stricte monotonie de f sur [0;1]\n",
    "    4-Pour savoir si x0 se trouve dans [0;0,5]ou dans [0,5;1], il faut vérifier si f(0) et f(0,5) sont de mêmes signes\n",
    "   5- proposer un algorithme de recherche pour évaluer x_0 en fonction de 𝑁\n",
    "\n",
    ", donner par l'utilisateur"
   ]
  },
  {
   "cell_type": "code",
   "execution_count": null,
   "metadata": {},
   "outputs": [],
   "source": [
    "def f(x) :\n",
    "    return x**+2*x-2\n",
    "def plot_f (function,interv)"
   ]
  }
 ],
 "metadata": {
  "kernelspec": {
   "display_name": "Python 3",
   "language": "python",
   "name": "python3"
  },
  "language_info": {
   "codemirror_mode": {
    "name": "ipython",
    "version": 3
   },
   "file_extension": ".py",
   "mimetype": "text/x-python",
   "name": "python",
   "nbconvert_exporter": "python",
   "pygments_lexer": "ipython3",
   "version": "3.7.6"
  }
 },
 "nbformat": 4,
 "nbformat_minor": 4
}
